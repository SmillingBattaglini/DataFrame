{
 "cells": [
  {
   "attachments": {},
   "cell_type": "markdown",
   "metadata": {},
   "source": [
    "1.- Cierta compañía aérea ha requerido de sus servicios profesionales para llevar a\n",
    "cabo un estudio relacionado con la cantidad de pasajeros que llegan al país en vuelos \n",
    "internacionales, dicho estudio tiene relación con la enfermedad de COVID-19. \n",
    "De acuerdo a la información que maneja la compañía, la cantidad de pasajeros\n",
    "que llegan en vuelos internacionales se comporta aproximadamente normal con\n",
    "una media de 120 pasajeros y una varianza de 25.\n",
    "\n",
    "a. Asumiendo que cada día llegan a Santiago 16 vuelos internacionales,\n",
    "determine la probabilidad de que durante el año (52 semanas) la cantidad\n",
    "total de pasajeros sea de al menos de 699500.\n",
    "\n",
    "b. De acuerdo con registros históricos se sabe que aproximadamente un 7%\n",
    "de los pasajeros son niños. Considerando un potencial de 400 pasajeros que\n",
    "llegarían en los próximos días, determine la probabilidad que menos de un\n",
    "5% sean niños."
   ]
  },
  {
   "cell_type": "code",
   "execution_count": 51,
   "metadata": {},
   "outputs": [
    {
     "name": "stdout",
     "output_type": "stream",
     "text": [
      "Pasajeros por día esperado en base al total anual : 120.10645604395604\n",
      "\n",
      "Luego de tipificar la variable X y consultada la tabla distribucion standard N(1,0) se obtiene que Z=0.0213 \n",
      "Por lo que la probabilidad de que el total de pasajeros durante 1 años sea mayor o igual a 699500 es del 49.15%\n"
     ]
    }
   ],
   "source": [
    "import numpy as np\n",
    "from scipy.stats import norm\n",
    "import matplotlib.pyplot as plt\n",
    "from scipy.stats import norm, t\n",
    "\n",
    "# media pasajeros por día\n",
    "media_pasajeros_dia_mu = 120\n",
    "# varianza pasajeros\n",
    "varianza = 25\n",
    "# desviacion típica pasajeros\n",
    "desviacion_tipica_sigma = 5\n",
    "\n",
    "\n",
    "vuelos_diarios = 16\n",
    "semanas_anual = 52\n",
    "dias_semana = 7\n",
    "total_pasajeros_esperados_anual_X = 699500\n",
    "sigma = 0.10\n",
    "\n",
    "vuelos_anuales = vuelos_diarios*semanas_anual*dias_semana\n",
    "\n",
    "total_pasajeros_diario_esperado_X = total_pasajeros_esperados_anual_X / \\\n",
    "    semanas_anual / dias_semana / vuelos_diarios\n",
    "print(\"Pasajeros por día esperado en base al total anual :\",total_pasajeros_diario_esperado_X)\n",
    "\n",
    "# normaliza pasajeros diarios esperados\n",
    "Z = (total_pasajeros_diario_esperado_X - media_pasajeros_dia_mu) / desviacion_tipica_sigma\n",
    "alpha = round(norm.cdf(Z), 4)\n",
    "print(\n",
    "    f\"\\nLuego de tipificar la variable X y consultada la tabla distribucion standard N(1,0) se obtiene que Z={Z:.4f} \")\n",
    "# se solicta que a lo menos, es decir, que sea mayor o igual a 699500 pasajeros, por lo que se debe considerar cola derecha\n",
    "alpha = 1 - alpha\n",
    "print(\n",
    "    f\"Por lo que la probabilidad de que el total de pasajeros durante 1 años sea mayor o igual a {total_pasajeros_esperados_anual_X} es del {alpha*100:.2f}%\")\n"
   ]
  },
  {
   "cell_type": "code",
   "execution_count": 53,
   "metadata": {},
   "outputs": [
    {
     "name": "stdout",
     "output_type": "stream",
     "text": [
      "total vuelos anual:  5824\n",
      "media pasajeros anual: 698880\n",
      "desviación típica anual: 582.4\n"
     ]
    }
   ],
   "source": [
    "# alternativa de cálculo en base a 1 año\n",
    "vuelos_diarios = 16\n",
    "semanas_anual = 52\n",
    "dias_semana = 7\n",
    "total_pasajeros_esperados_anual_X = 699500\n",
    "\n",
    "total_vuelos_anual = vuelos_diarios * dias_semana* semanas_anual \n",
    "print(\"total vuelos anual: \",total_vuelos_anual)\n",
    "\n",
    "# calculando \n",
    "mu_pasajeros_anual = media_pasajeros_dia_mu * total_vuelos_anual\n",
    "print(\"media pasajeros anual:\", mu_pasajeros_anual)\n",
    "\n",
    "# calculando desviacion típica anual\n",
    "desviacion_tipica_anual_esperada = sigma *  total_vuelos_anual\n",
    "print(\"desviación típica anual:\",desviacion_tipica_anual_esperada)\n",
    "\n",
    "# tipificando X en su valor anual\n",
    "Z = ( total_pasajeros_esperados_anual_X - mu_pasajeros_anual ) / desviacion_tipica_anual_esperada"
   ]
  },
  {
   "cell_type": "code",
   "execution_count": 55,
   "metadata": {},
   "outputs": [
    {
     "name": "stdout",
     "output_type": "stream",
     "text": [
      "Luego de tipificar la variable X y consultada la tabla distribucion standard N(1,0) se obtiene que Z=1.0646 \n",
      "Por lo que la probabilidad de que el total de pasajeros durante 1 años sea mayor o igual a 699500 es del 14.35%\n"
     ]
    }
   ],
   "source": [
    "alpha = round(norm.cdf(Z), 4)\n",
    "print(\n",
    "    f\"Luego de tipificar la variable X y consultada la tabla distribucion standard N(1,0) se obtiene que Z={Z:.4f} \")\n",
    "# se solicta que a lo menos, es decir, que sea mayor o igual a 699500 pasajeros, por lo que se debe considerar cola derecha\n",
    "alpha = 1 - alpha\n",
    "print(f\"Por lo que la probabilidad de que el total de pasajeros durante 1 años sea mayor o igual a {total_pasajeros_esperados_anual_X} es del {alpha*100:.2f}%\")\n"
   ]
  },
  {
   "attachments": {},
   "cell_type": "markdown",
   "metadata": {},
   "source": [
    "b. De acuerdo con registros históricos se sabe que aproximadamente un 7%\n",
    "de los pasajeros son niños. Considerando un potencial de 400 pasajeros que\n",
    "llegarían en los próximos días, determine la probabilidad que menos de un\n",
    "5% sean niños."
   ]
  },
  {
   "cell_type": "code",
   "execution_count": 72,
   "metadata": {},
   "outputs": [
    {
     "name": "stdout",
     "output_type": "stream",
     "text": [
      "Media de niños por vuelo: 28.00\n",
      "Varianza de niños por vuelo: 26.04\n",
      "La probabilidad de que al menos el 5% de los pasajeros sean niños es: 5.85%\n"
     ]
    }
   ],
   "source": [
    "\n",
    "n_pasajeros = 400 #Pasajeros en próximos días\n",
    "p_aprox = 0.07 # Probabilidad histórica de niños\n",
    "\n",
    "# Calcular la media y varianza\n",
    "\n",
    "media_niños_por_vuelo = 0.07 * 400 # Total 28 niños\n",
    "print(f\"Media de niños por vuelo: {media_niños_por_vuelo:.2f}\")\n",
    "\n",
    "varianza_niños_por_vuelo = (0.07 * 0.93 * 400) # Total 26 niños\n",
    "print(f\"Varianza de niños por vuelo: {varianza_niños_por_vuelo:.2f}\")\n",
    "\n",
    "# Calculo de la probabilidad de que al menos el  5% de los pasajeros sean niños\n",
    "probability = norm.cdf((0.05 * 400 - media_niños_por_vuelo) / np.sqrt(varianza_niños_por_vuelo))\n",
    "print(f\"La probabilidad de que al menos el 5% de los pasajeros sean niños es: {probability * 100:.2f}%\")\n"
   ]
  },
  {
   "cell_type": "code",
   "execution_count": 73,
   "metadata": {},
   "outputs": [
    {
     "data": {
      "image/png": "[encoded data removed]",
      "text/plain": [
       "<Figure size 640x480 with 1 Axes>"
      ]
     },
     "metadata": {},
     "output_type": "display_data"
    }
   ],
   "source": [
    "import matplotlib.pyplot as plt\n",
    "\n",
    "# Datos\n",
    "total_pasajeros = 400\n",
    "porcentaje_ninos = 0.05\n",
    "cantidad_ninos = total_pasajeros * porcentaje_ninos\n",
    "probabilidad_ninos = cantidad_ninos / total_pasajeros\n",
    "\n",
    "# Graficar\n",
    "labels = ['No Niños', 'Niños']\n",
    "sizes = [1 - probabilidad_ninos, probabilidad_ninos]\n",
    "colors = ['#ff9999', '#66b3ff']\n",
    "\n",
    "fig1, ax1 = plt.subplots()\n",
    "ax1.pie(sizes, colors=colors, labels=labels, autopct='%1.1f%%', startangle=90)\n",
    "\n",
    "# Aspecto\n",
    "ax1.axis('equal')\n",
    "plt.title('Probabilidad de que sean niños en el vuelo')\n",
    "\n",
    "# Mostrar gráfico\n",
    "plt.show()\n"
   ]
  },
  {
   "attachments": {},
   "cell_type": "markdown",
   "metadata": {},
   "source": [
    "2. - Una empresa que se dedica a hacer encuestas se queja de que un agente\n",
    "realiza en promedio 53 encuestas por semana. Se ha introducido una forma más\n",
    "moderna de realizar las encuestas y la empresa quiere evaluar su efectividad. Los\n",
    "números de encuestas realizadas en una semana por una muestra aleatoria de\n",
    "agentes son:\n",
    "En el nivel de significancia 0.05, puede concluirse que la cantidad media de entrevistas\n",
    "realizadas por los agentes es superior a 53 por semana? Evalúe el valor p.\n",
    "\n"
   ]
  },
  {
   "cell_type": "code",
   "execution_count": 71,
   "metadata": {},
   "outputs": [
    {
     "name": "stdout",
     "output_type": "stream",
     "text": [
      "Estadística de prueba t:  3.3086807674740464\n",
      "Valor p:  0.005652526562219216\n",
      "Con el valor de p, se puede decir que se rechaza la Hipotesis nula\n"
     ]
    }
   ],
   "source": [
    "from scipy.stats import t\n",
    "import numpy as np\n",
    "\n",
    "# Definir la muestra de datos\n",
    "data = [53, 57, 50, 55, 58, 54, 60, 52, 59, 62, 60, 60, 51, 59]\n",
    "\n",
    "# Definir la hipótesis nula\n",
    "media_hipotesis = 53 # Encuestas a la semana\n",
    "nivel_de_significancia = 0.05\n",
    "n = 14\n",
    "\n",
    "# Calcular la estadística de prueba t y el valor p\n",
    "t_stat, p_value = ttest_1samp(data, media_hipotesis)\n",
    "\n",
    "# Imprimir los resultados\n",
    "print(\"Estadística de prueba t: \", t_stat)\n",
    "print(\"Valor p: \", p_value)\n",
    "print(\"Con el valor de p, se puede decir que se rechaza la Hipotesis nula\")\n"
   ]
  },
  {
   "cell_type": "code",
   "execution_count": 70,
   "metadata": {},
   "outputs": [
    {
     "data": {
      "image/png": "[encoded data removed]",
      "text/plain": [
       "<Figure size 640x480 with 1 Axes>"
      ]
     },
     "metadata": {},
     "output_type": "display_data"
    }
   ],
   "source": [
    "import matplotlib.pyplot as plt\n",
    "\n",
    "# Definir la muestra de datos\n",
    "data = [53, 57, 50, 55, 58, 54, 60, 52, 59, 62, 60, 60, 51, 59]\n",
    "\n",
    "# Crear el histograma\n",
    "plt.hist(data, bins = 'auto', color = 'green', edgecolor = 'pink')\n",
    "\n",
    "# Configurar el título y las etiquetas de los ejes\n",
    "plt.title(\"Distribución de la cantidad de encuestas\")\n",
    "plt.xlabel(\"Cantidad de encuestas\")\n",
    "plt.ylabel(\"Frecuencia\")\n",
    "\n",
    "# Mostrar el histograma\n",
    "plt.show()\n"
   ]
  }
 ],
 "metadata": {
  "kernelspec": {
   "display_name": "base",
   "language": "python",
   "name": "python3"
  },
  "language_info": {
   "codemirror_mode": {
    "name": "ipython",
    "version": 3
   },
   "file_extension": ".py",
   "mimetype": "text/x-python",
   "name": "python",
   "nbconvert_exporter": "python",
   "pygments_lexer": "ipython3",
   "version": "3.10.9"
  },
  "orig_nbformat": 4
 },
 "nbformat": 4,
 "nbformat_minor": 2
}
