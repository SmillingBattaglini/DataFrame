{
 "cells": [
  {
   "cell_type": "markdown",
   "metadata": {
    "collapsed": false
   },
   "source": [
    "1. Cargue las librerías que necesita"
   ]
  },
  {
   "cell_type": "code",
   "execution_count": 1,
   "metadata": {
    "ExecuteTime": {
     "end_time": "2023-06-07T19:49:42.194342200Z",
     "start_time": "2023-06-07T19:49:42.031679700Z"
    },
    "collapsed": false
   },
   "outputs": [
    {
     "name": "stderr",
     "output_type": "stream",
     "text": [
      "2023-06-14 19:59:51.614640: I tensorflow/core/platform/cpu_feature_guard.cc:193] This TensorFlow binary is optimized with oneAPI Deep Neural Network Library (oneDNN) to use the following CPU instructions in performance-critical operations:  SSE4.1 SSE4.2\n",
      "To enable them in other operations, rebuild TensorFlow with the appropriate compiler flags.\n"
     ]
    }
   ],
   "source": [
    "import pandas as pd\n",
    "from sklearn.model_selection import train_test_split\n",
    "from tensorflow import keras"
   ]
  },
  {
   "cell_type": "markdown",
   "metadata": {
    "collapsed": false
   },
   "source": [
    "2. Importe la base de datos pima-indians-diabetes.csv"
   ]
  },
  {
   "cell_type": "code",
   "execution_count": 11,
   "metadata": {
    "ExecuteTime": {
     "end_time": "2023-06-07T19:49:42.612573400Z",
     "start_time": "2023-06-07T19:49:42.069935400Z"
    },
    "collapsed": false
   },
   "outputs": [],
   "source": [
    "dataframe = pd.read_csv('pima-indians-diabetes.csv')\n",
    "\n",
    "dataframe.columns = ['preg', 'plas', 'pres', 'skin', 'test', 'mass', 'pedi', 'age', 'class']"
   ]
  },
  {
   "cell_type": "markdown",
   "metadata": {
    "collapsed": false
   },
   "source": [
    "3. Defina la Base de datos, incluyendo medidas descriptivas y las variables que posee (puede usar las data .names). Considere que la variable de salida (y) es 0,1."
   ]
  },
  {
   "cell_type": "code",
   "execution_count": 12,
   "metadata": {
    "ExecuteTime": {
     "end_time": "2023-06-07T19:49:42.613573Z",
     "start_time": "2023-06-07T19:49:42.303706100Z"
    },
    "collapsed": false
   },
   "outputs": [
    {
     "name": "stdout",
     "output_type": "stream",
     "text": [
      "   preg  plas  pres  skin  test  mass   pedi  age  class\n",
      "0     1    85    66    29     0  26.6  0.351   31      0\n",
      "1     8   183    64     0     0  23.3  0.672   32      1\n",
      "2     1    89    66    23    94  28.1  0.167   21      0\n",
      "3     0   137    40    35   168  43.1  2.288   33      1\n",
      "4     5   116    74     0     0  25.6  0.201   30      0\n"
     ]
    }
   ],
   "source": [
    "print(dataframe.head())\n",
    "#print(dataframe.columns)"
   ]
  },
  {
   "cell_type": "markdown",
   "metadata": {
    "collapsed": false
   },
   "source": [
    "4. Defina el modelo Keras"
   ]
  },
  {
   "cell_type": "code",
   "execution_count": 13,
   "metadata": {
    "ExecuteTime": {
     "end_time": "2023-06-07T19:49:42.613573Z",
     "start_time": "2023-06-07T19:49:42.606065Z"
    },
    "collapsed": false
   },
   "outputs": [],
   "source": [
    "x = dataframe.drop('class', axis=1)\n",
    "y = dataframe['class']"
   ]
  },
  {
   "cell_type": "markdown",
   "metadata": {
    "collapsed": false
   },
   "source": [
    "5. Utilice la función de activación de la unidad lineal rectificada denominada ReLU en las dos primeras capas y la función Sigmoid en la capa de salida."
   ]
  },
  {
   "cell_type": "code",
   "execution_count": 14,
   "metadata": {
    "ExecuteTime": {
     "end_time": "2023-06-07T19:49:43.696749800Z",
     "start_time": "2023-06-07T19:49:42.606065Z"
    },
    "collapsed": false
   },
   "outputs": [],
   "source": [
    "model = keras.Sequential()\n",
    "model.add(keras.layers.Dense(16, input_dim=x.shape[1], activation='relu'))\n",
    "model.add(keras.layers.Dense(8, activation='relu'))\n",
    "model.add(keras.layers.Dense(1, activation='sigmoid'))"
   ]
  },
  {
   "cell_type": "markdown",
   "metadata": {
    "collapsed": false
   },
   "source": [
    "6. Compile el modelo Keras"
   ]
  },
  {
   "cell_type": "code",
   "execution_count": 15,
   "metadata": {
    "ExecuteTime": {
     "end_time": "2023-06-07T19:49:47.644801100Z",
     "start_time": "2023-06-07T19:49:43.697750Z"
    },
    "collapsed": false
   },
   "outputs": [],
   "source": [
    "model.compile(loss='binary_crossentropy', optimizer='adam', metrics=['accuracy'])"
   ]
  },
  {
   "cell_type": "markdown",
   "metadata": {
    "collapsed": false
   },
   "source": [
    "7. Ajuste el modelo, considere epochs=150, batch_size=10"
   ]
  },
  {
   "cell_type": "code",
   "execution_count": 7,
   "metadata": {
    "ExecuteTime": {
     "end_time": "2023-06-07T19:50:24.255013200Z",
     "start_time": "2023-06-07T19:49:47.645800900Z"
    },
    "collapsed": false
   },
   "outputs": [
    {
     "name": "stdout",
     "output_type": "stream",
     "text": [
      "Epoch 1/150\n",
      "62/62 [==============================] - 1s 691us/step - loss: 1.8927 - accuracy: 0.6199\n",
      "Epoch 2/150\n",
      "62/62 [==============================] - 0s 1ms/step - loss: 1.2523 - accuracy: 0.6281\n",
      "Epoch 3/150\n",
      "62/62 [==============================] - 0s 595us/step - loss: 1.0119 - accuracy: 0.6542\n",
      "Epoch 4/150\n",
      "62/62 [==============================] - 0s 594us/step - loss: 0.9567 - accuracy: 0.6411\n",
      "Epoch 5/150\n",
      "62/62 [==============================] - 0s 560us/step - loss: 0.9468 - accuracy: 0.6395\n",
      "Epoch 6/150\n",
      "62/62 [==============================] - 0s 558us/step - loss: 0.8119 - accuracy: 0.6900\n",
      "Epoch 7/150\n",
      "62/62 [==============================] - 0s 555us/step - loss: 0.7942 - accuracy: 0.6623\n",
      "Epoch 8/150\n",
      "62/62 [==============================] - 0s 566us/step - loss: 0.8675 - accuracy: 0.6542\n",
      "Epoch 9/150\n",
      "62/62 [==============================] - 0s 614us/step - loss: 0.7165 - accuracy: 0.6656\n",
      "Epoch 10/150\n",
      "62/62 [==============================] - 0s 586us/step - loss: 0.8150 - accuracy: 0.6737\n",
      "Epoch 11/150\n",
      "62/62 [==============================] - 0s 645us/step - loss: 0.6561 - accuracy: 0.6852\n",
      "Epoch 12/150\n",
      "62/62 [==============================] - 0s 585us/step - loss: 0.6530 - accuracy: 0.6966\n",
      "Epoch 13/150\n",
      "62/62 [==============================] - 0s 607us/step - loss: 0.6492 - accuracy: 0.6721\n",
      "Epoch 14/150\n",
      "62/62 [==============================] - 0s 559us/step - loss: 0.7298 - accuracy: 0.6395\n",
      "Epoch 15/150\n",
      "62/62 [==============================] - 0s 557us/step - loss: 0.6382 - accuracy: 0.6770\n",
      "Epoch 16/150\n",
      "62/62 [==============================] - 0s 558us/step - loss: 0.6745 - accuracy: 0.6770\n",
      "Epoch 17/150\n",
      "62/62 [==============================] - 0s 557us/step - loss: 0.6267 - accuracy: 0.6770\n",
      "Epoch 18/150\n",
      "62/62 [==============================] - 0s 631us/step - loss: 0.5992 - accuracy: 0.6966\n",
      "Epoch 19/150\n",
      "62/62 [==============================] - 0s 580us/step - loss: 0.6051 - accuracy: 0.6917\n",
      "Epoch 20/150\n",
      "62/62 [==============================] - 0s 559us/step - loss: 0.6503 - accuracy: 0.6884\n",
      "Epoch 21/150\n",
      "62/62 [==============================] - 0s 549us/step - loss: 0.6929 - accuracy: 0.6819\n",
      "Epoch 22/150\n",
      "62/62 [==============================] - 0s 552us/step - loss: 0.6072 - accuracy: 0.6933\n",
      "Epoch 23/150\n",
      "62/62 [==============================] - 0s 561us/step - loss: 0.6312 - accuracy: 0.6884\n",
      "Epoch 24/150\n",
      "62/62 [==============================] - 0s 551us/step - loss: 0.6290 - accuracy: 0.6900\n",
      "Epoch 25/150\n",
      "62/62 [==============================] - 0s 553us/step - loss: 0.6045 - accuracy: 0.6998\n",
      "Epoch 26/150\n",
      "62/62 [==============================] - 0s 546us/step - loss: 0.6828 - accuracy: 0.7064\n",
      "Epoch 27/150\n",
      "62/62 [==============================] - 0s 563us/step - loss: 0.5819 - accuracy: 0.7162\n",
      "Epoch 28/150\n",
      "62/62 [==============================] - 0s 547us/step - loss: 0.5678 - accuracy: 0.6982\n",
      "Epoch 29/150\n",
      "62/62 [==============================] - 0s 817us/step - loss: 0.6150 - accuracy: 0.6917\n",
      "Epoch 30/150\n",
      "62/62 [==============================] - 0s 554us/step - loss: 0.7381 - accuracy: 0.6754\n",
      "Epoch 31/150\n",
      "62/62 [==============================] - 0s 552us/step - loss: 0.5809 - accuracy: 0.7113\n",
      "Epoch 32/150\n",
      "62/62 [==============================] - 0s 553us/step - loss: 0.5645 - accuracy: 0.7227\n",
      "Epoch 33/150\n",
      "62/62 [==============================] - 0s 556us/step - loss: 0.6004 - accuracy: 0.7064\n",
      "Epoch 34/150\n",
      "62/62 [==============================] - 0s 549us/step - loss: 0.5777 - accuracy: 0.7259\n",
      "Epoch 35/150\n",
      "62/62 [==============================] - 0s 558us/step - loss: 0.6776 - accuracy: 0.6933\n",
      "Epoch 36/150\n",
      "62/62 [==============================] - 0s 612us/step - loss: 0.6152 - accuracy: 0.7031\n",
      "Epoch 37/150\n",
      "62/62 [==============================] - 0s 617us/step - loss: 0.5972 - accuracy: 0.7292\n",
      "Epoch 38/150\n",
      "62/62 [==============================] - 0s 581us/step - loss: 0.5796 - accuracy: 0.7210\n",
      "Epoch 39/150\n",
      "62/62 [==============================] - 0s 553us/step - loss: 0.5634 - accuracy: 0.7178\n",
      "Epoch 40/150\n",
      "62/62 [==============================] - 0s 559us/step - loss: 0.5915 - accuracy: 0.7096\n",
      "Epoch 41/150\n",
      "62/62 [==============================] - 0s 554us/step - loss: 0.5811 - accuracy: 0.7113\n",
      "Epoch 42/150\n",
      "62/62 [==============================] - 0s 550us/step - loss: 0.5929 - accuracy: 0.7210\n",
      "Epoch 43/150\n",
      "62/62 [==============================] - 0s 553us/step - loss: 0.5851 - accuracy: 0.7178\n",
      "Epoch 44/150\n",
      "62/62 [==============================] - 0s 553us/step - loss: 0.5637 - accuracy: 0.7194\n",
      "Epoch 45/150\n",
      "62/62 [==============================] - 0s 998us/step - loss: 0.5491 - accuracy: 0.7325\n",
      "Epoch 46/150\n",
      "62/62 [==============================] - 0s 768us/step - loss: 0.5942 - accuracy: 0.7113\n",
      "Epoch 47/150\n",
      "62/62 [==============================] - 0s 593us/step - loss: 0.5683 - accuracy: 0.7210\n",
      "Epoch 48/150\n",
      "62/62 [==============================] - 0s 583us/step - loss: 0.5782 - accuracy: 0.7308\n",
      "Epoch 49/150\n",
      "62/62 [==============================] - 0s 592us/step - loss: 0.6505 - accuracy: 0.6770\n",
      "Epoch 50/150\n",
      "62/62 [==============================] - 0s 585us/step - loss: 0.6339 - accuracy: 0.6998\n",
      "Epoch 51/150\n",
      "62/62 [==============================] - 0s 569us/step - loss: 0.5453 - accuracy: 0.7439\n",
      "Epoch 52/150\n",
      "62/62 [==============================] - 0s 559us/step - loss: 0.5388 - accuracy: 0.7520\n",
      "Epoch 53/150\n",
      "62/62 [==============================] - 0s 580us/step - loss: 0.5934 - accuracy: 0.7210\n",
      "Epoch 54/150\n",
      "62/62 [==============================] - 0s 581us/step - loss: 0.6080 - accuracy: 0.7194\n",
      "Epoch 55/150\n",
      "62/62 [==============================] - 0s 706us/step - loss: 0.5577 - accuracy: 0.7227\n",
      "Epoch 56/150\n",
      "62/62 [==============================] - 0s 613us/step - loss: 0.5563 - accuracy: 0.7210\n",
      "Epoch 57/150\n",
      "62/62 [==============================] - 0s 564us/step - loss: 0.5843 - accuracy: 0.7406\n",
      "Epoch 58/150\n",
      "62/62 [==============================] - 0s 559us/step - loss: 0.6559 - accuracy: 0.6770\n",
      "Epoch 59/150\n",
      "62/62 [==============================] - 0s 554us/step - loss: 0.5418 - accuracy: 0.7292\n",
      "Epoch 60/150\n",
      "62/62 [==============================] - 0s 551us/step - loss: 0.5813 - accuracy: 0.7227\n",
      "Epoch 61/150\n",
      "62/62 [==============================] - 0s 549us/step - loss: 0.6348 - accuracy: 0.6966\n",
      "Epoch 62/150\n",
      "62/62 [==============================] - 0s 851us/step - loss: 0.5815 - accuracy: 0.7276\n",
      "Epoch 63/150\n",
      "62/62 [==============================] - 0s 635us/step - loss: 0.5425 - accuracy: 0.7390\n",
      "Epoch 64/150\n",
      "62/62 [==============================] - 0s 602us/step - loss: 0.5472 - accuracy: 0.7292\n",
      "Epoch 65/150\n",
      "62/62 [==============================] - 0s 563us/step - loss: 0.5836 - accuracy: 0.7325\n",
      "Epoch 66/150\n",
      "62/62 [==============================] - 0s 613us/step - loss: 0.5974 - accuracy: 0.7259\n",
      "Epoch 67/150\n",
      "62/62 [==============================] - 0s 655us/step - loss: 0.6572 - accuracy: 0.7047\n",
      "Epoch 68/150\n",
      "62/62 [==============================] - 0s 655us/step - loss: 0.5564 - accuracy: 0.7243\n",
      "Epoch 69/150\n",
      "62/62 [==============================] - 0s 589us/step - loss: 0.5951 - accuracy: 0.7178\n",
      "Epoch 70/150\n",
      "62/62 [==============================] - 0s 610us/step - loss: 0.6194 - accuracy: 0.7210\n",
      "Epoch 71/150\n",
      "62/62 [==============================] - 0s 569us/step - loss: 0.5208 - accuracy: 0.7406\n",
      "Epoch 72/150\n",
      "62/62 [==============================] - 0s 634us/step - loss: 0.5263 - accuracy: 0.7439\n",
      "Epoch 73/150\n",
      "62/62 [==============================] - 0s 560us/step - loss: 0.5505 - accuracy: 0.7145\n",
      "Epoch 74/150\n",
      "62/62 [==============================] - 0s 553us/step - loss: 0.6050 - accuracy: 0.7390\n",
      "Epoch 75/150\n",
      "62/62 [==============================] - 0s 577us/step - loss: 0.5663 - accuracy: 0.7602\n",
      "Epoch 76/150\n",
      "62/62 [==============================] - 0s 552us/step - loss: 0.5641 - accuracy: 0.7031\n",
      "Epoch 77/150\n",
      "62/62 [==============================] - 0s 548us/step - loss: 0.5316 - accuracy: 0.7423\n",
      "Epoch 78/150\n",
      "62/62 [==============================] - 0s 563us/step - loss: 0.5321 - accuracy: 0.7569\n",
      "Epoch 79/150\n",
      "62/62 [==============================] - 0s 853us/step - loss: 0.5687 - accuracy: 0.7129\n",
      "Epoch 80/150\n",
      "62/62 [==============================] - 0s 551us/step - loss: 0.5422 - accuracy: 0.7325\n",
      "Epoch 81/150\n",
      "62/62 [==============================] - 0s 551us/step - loss: 0.5137 - accuracy: 0.7586\n",
      "Epoch 82/150\n",
      "62/62 [==============================] - 0s 547us/step - loss: 0.6000 - accuracy: 0.7210\n",
      "Epoch 83/150\n",
      "62/62 [==============================] - 0s 546us/step - loss: 0.6277 - accuracy: 0.6982\n",
      "Epoch 84/150\n",
      "62/62 [==============================] - 0s 547us/step - loss: 0.5260 - accuracy: 0.7471\n",
      "Epoch 85/150\n",
      "62/62 [==============================] - 0s 552us/step - loss: 0.5348 - accuracy: 0.7537\n",
      "Epoch 86/150\n",
      "62/62 [==============================] - 0s 545us/step - loss: 0.5603 - accuracy: 0.7325\n",
      "Epoch 87/150\n",
      "62/62 [==============================] - 0s 550us/step - loss: 0.6181 - accuracy: 0.6982\n",
      "Epoch 88/150\n",
      "62/62 [==============================] - 0s 548us/step - loss: 0.5274 - accuracy: 0.7553\n",
      "Epoch 89/150\n",
      "62/62 [==============================] - 0s 548us/step - loss: 0.5619 - accuracy: 0.7210\n",
      "Epoch 90/150\n",
      "62/62 [==============================] - 0s 553us/step - loss: 0.5249 - accuracy: 0.7537\n",
      "Epoch 91/150\n",
      "62/62 [==============================] - 0s 552us/step - loss: 0.5197 - accuracy: 0.7439\n",
      "Epoch 92/150\n",
      "62/62 [==============================] - 0s 556us/step - loss: 0.5122 - accuracy: 0.7520\n",
      "Epoch 93/150\n",
      "62/62 [==============================] - 0s 548us/step - loss: 0.7146 - accuracy: 0.6819\n",
      "Epoch 94/150\n",
      "62/62 [==============================] - 0s 550us/step - loss: 0.5462 - accuracy: 0.7374\n",
      "Epoch 95/150\n",
      "62/62 [==============================] - 0s 550us/step - loss: 0.6286 - accuracy: 0.6949\n",
      "Epoch 96/150\n",
      "62/62 [==============================] - 0s 554us/step - loss: 0.5256 - accuracy: 0.7439\n",
      "Epoch 97/150\n",
      "62/62 [==============================] - 0s 551us/step - loss: 0.5455 - accuracy: 0.7374\n",
      "Epoch 98/150\n",
      "62/62 [==============================] - 0s 546us/step - loss: 0.5365 - accuracy: 0.7308\n",
      "Epoch 99/150\n",
      "62/62 [==============================] - 0s 550us/step - loss: 0.5444 - accuracy: 0.7276\n",
      "Epoch 100/150\n",
      "62/62 [==============================] - 0s 815us/step - loss: 0.5542 - accuracy: 0.7357\n",
      "Epoch 101/150\n",
      "62/62 [==============================] - 0s 575us/step - loss: 0.5295 - accuracy: 0.7651\n",
      "Epoch 102/150\n",
      "62/62 [==============================] - 0s 566us/step - loss: 0.4974 - accuracy: 0.7700\n",
      "Epoch 103/150\n",
      "62/62 [==============================] - 0s 571us/step - loss: 0.5711 - accuracy: 0.7194\n",
      "Epoch 104/150\n",
      "62/62 [==============================] - 0s 874us/step - loss: 0.5546 - accuracy: 0.7325\n",
      "Epoch 105/150\n",
      "62/62 [==============================] - 0s 555us/step - loss: 0.5400 - accuracy: 0.7325\n",
      "Epoch 106/150\n",
      "62/62 [==============================] - 0s 550us/step - loss: 0.5253 - accuracy: 0.7455\n",
      "Epoch 107/150\n",
      "62/62 [==============================] - 0s 546us/step - loss: 0.5323 - accuracy: 0.7357\n",
      "Epoch 108/150\n",
      "62/62 [==============================] - 0s 552us/step - loss: 0.5380 - accuracy: 0.7520\n",
      "Epoch 109/150\n",
      "62/62 [==============================] - 0s 550us/step - loss: 0.5413 - accuracy: 0.7390\n",
      "Epoch 110/150\n",
      "62/62 [==============================] - 0s 551us/step - loss: 0.5601 - accuracy: 0.7390\n",
      "Epoch 111/150\n",
      "62/62 [==============================] - 0s 547us/step - loss: 0.5322 - accuracy: 0.7423\n",
      "Epoch 112/150\n",
      "62/62 [==============================] - 0s 551us/step - loss: 0.5172 - accuracy: 0.7569\n",
      "Epoch 113/150\n",
      "62/62 [==============================] - 0s 551us/step - loss: 0.5307 - accuracy: 0.7374\n",
      "Epoch 114/150\n",
      "62/62 [==============================] - 0s 549us/step - loss: 0.5537 - accuracy: 0.7439\n",
      "Epoch 115/150\n",
      "62/62 [==============================] - 0s 550us/step - loss: 0.5337 - accuracy: 0.7406\n",
      "Epoch 116/150\n",
      "62/62 [==============================] - 0s 569us/step - loss: 0.5667 - accuracy: 0.7243\n",
      "Epoch 117/150\n",
      "62/62 [==============================] - 0s 546us/step - loss: 0.5628 - accuracy: 0.7210\n",
      "Epoch 118/150\n",
      "62/62 [==============================] - 0s 547us/step - loss: 0.5312 - accuracy: 0.7357\n",
      "Epoch 119/150\n",
      "62/62 [==============================] - 0s 546us/step - loss: 0.5456 - accuracy: 0.7341\n",
      "Epoch 120/150\n",
      "62/62 [==============================] - 0s 549us/step - loss: 0.5426 - accuracy: 0.7537\n",
      "Epoch 121/150\n",
      "62/62 [==============================] - 0s 558us/step - loss: 0.5080 - accuracy: 0.7553\n",
      "Epoch 122/150\n",
      "62/62 [==============================] - 0s 559us/step - loss: 0.5188 - accuracy: 0.7537\n",
      "Epoch 123/150\n",
      "62/62 [==============================] - 0s 564us/step - loss: 0.5007 - accuracy: 0.7667\n",
      "Epoch 124/150\n",
      "62/62 [==============================] - 0s 728us/step - loss: 0.5558 - accuracy: 0.7325\n",
      "Epoch 125/150\n",
      "62/62 [==============================] - 0s 560us/step - loss: 0.5102 - accuracy: 0.7618\n",
      "Epoch 126/150\n",
      "62/62 [==============================] - 0s 557us/step - loss: 0.5408 - accuracy: 0.7423\n",
      "Epoch 127/150\n",
      "62/62 [==============================] - 0s 560us/step - loss: 0.5514 - accuracy: 0.7439\n",
      "Epoch 128/150\n",
      "62/62 [==============================] - 0s 681us/step - loss: 0.5106 - accuracy: 0.7602\n",
      "Epoch 129/150\n",
      "62/62 [==============================] - 0s 936us/step - loss: 0.4978 - accuracy: 0.7684\n",
      "Epoch 130/150\n",
      "62/62 [==============================] - 0s 549us/step - loss: 0.5228 - accuracy: 0.7357\n",
      "Epoch 131/150\n",
      "62/62 [==============================] - 0s 560us/step - loss: 0.5161 - accuracy: 0.7586\n",
      "Epoch 132/150\n",
      "62/62 [==============================] - 0s 564us/step - loss: 0.5626 - accuracy: 0.7325\n",
      "Epoch 133/150\n",
      "62/62 [==============================] - 0s 540us/step - loss: 0.5422 - accuracy: 0.7390\n",
      "Epoch 134/150\n",
      "62/62 [==============================] - 0s 535us/step - loss: 0.5518 - accuracy: 0.7488\n",
      "Epoch 135/150\n",
      "62/62 [==============================] - 0s 564us/step - loss: 0.5612 - accuracy: 0.7455\n",
      "Epoch 136/150\n",
      "62/62 [==============================] - 0s 562us/step - loss: 0.5322 - accuracy: 0.7423\n",
      "Epoch 137/150\n",
      "62/62 [==============================] - 0s 607us/step - loss: 0.5459 - accuracy: 0.7145\n",
      "Epoch 138/150\n",
      "62/62 [==============================] - 0s 581us/step - loss: 0.5365 - accuracy: 0.7569\n",
      "Epoch 139/150\n",
      "62/62 [==============================] - 0s 558us/step - loss: 0.5090 - accuracy: 0.7618\n",
      "Epoch 140/150\n",
      "62/62 [==============================] - 0s 560us/step - loss: 0.5245 - accuracy: 0.7455\n",
      "Epoch 141/150\n",
      "62/62 [==============================] - 0s 561us/step - loss: 0.5282 - accuracy: 0.7504\n",
      "Epoch 142/150\n",
      "62/62 [==============================] - 0s 550us/step - loss: 0.5238 - accuracy: 0.7439\n",
      "Epoch 143/150\n",
      "62/62 [==============================] - 0s 553us/step - loss: 0.5409 - accuracy: 0.7520\n",
      "Epoch 144/150\n",
      "62/62 [==============================] - 0s 547us/step - loss: 0.5267 - accuracy: 0.7471\n",
      "Epoch 145/150\n",
      "62/62 [==============================] - 0s 555us/step - loss: 0.4898 - accuracy: 0.7553\n",
      "Epoch 146/150\n",
      "62/62 [==============================] - 0s 578us/step - loss: 0.4867 - accuracy: 0.7504\n",
      "Epoch 147/150\n",
      "62/62 [==============================] - 0s 906us/step - loss: 0.5324 - accuracy: 0.7423\n",
      "Epoch 148/150\n",
      "62/62 [==============================] - 0s 551us/step - loss: 0.5215 - accuracy: 0.7243\n",
      "Epoch 149/150\n",
      "62/62 [==============================] - 0s 552us/step - loss: 0.5303 - accuracy: 0.7651\n",
      "Epoch 150/150\n",
      "62/62 [==============================] - 0s 549us/step - loss: 0.5221 - accuracy: 0.7406\n"
     ]
    },
    {
     "data": {
      "text/plain": [
       "<keras.callbacks.History at 0x7fa795803bb0>"
      ]
     },
     "execution_count": 7,
     "metadata": {},
     "output_type": "execute_result"
    }
   ],
   "source": [
    "x_train, x_test, y_train, y_test = train_test_split(x, y, test_size=0.2, random_state=42)\n",
    "\n",
    "model.fit(x_train, y_train, epochs=150, batch_size=10, verbose=1)"
   ]
  },
  {
   "cell_type": "markdown",
   "metadata": {
    "collapsed": false
   },
   "source": [
    "8. Evalúe el accuracy de su modelo, comente."
   ]
  },
  {
   "cell_type": "code",
   "execution_count": 16,
   "metadata": {
    "ExecuteTime": {
     "end_time": "2023-06-07T19:54:45.581468200Z",
     "start_time": "2023-06-07T19:54:43.763652200Z"
    },
    "collapsed": false
   },
   "outputs": [
    {
     "name": "stdout",
     "output_type": "stream",
     "text": [
      "Accuracy: 37.01\n"
     ]
    }
   ],
   "source": [
    "_, accuracy = model.evaluate(x_test, y_test, verbose=0)\n",
    "\n",
    "print('Accuracy: %.2f' % (accuracy * 100))"
   ]
  },
  {
   "cell_type": "markdown",
   "metadata": {
    "collapsed": false
   },
   "source": [
    "El modelo tiene un porcentaje de acierto aceptable por lo que como primera aproximacion esta bien. Sin embargo creo que podria mejorarse aumentando la cantidad de epocas (epochs) y disminuyendo el buffer size"
   ]
  }
 ],
 "metadata": {
  "kernelspec": {
   "display_name": "Python 3",
   "language": "python",
   "name": "python3"
  },
  "language_info": {
   "codemirror_mode": {
    "name": "ipython",
    "version": 3
   },
   "file_extension": ".py",
   "mimetype": "text/x-python",
   "name": "python",
   "nbconvert_exporter": "python",
   "pygments_lexer": "ipython3",
   "version": "3.10.9"
  }
 },
 "nbformat": 4,
 "nbformat_minor": 0
}
