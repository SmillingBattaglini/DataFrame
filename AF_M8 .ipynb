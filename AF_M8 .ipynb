{
 "cells": [
  {
   "cell_type": "code",
   "execution_count": 1,
   "id": "2e51017c",
   "metadata": {},
   "outputs": [
    {
     "name": "stderr",
     "output_type": "stream",
     "text": [
      "2023-06-07 21:32:59.642782: I tensorflow/core/platform/cpu_feature_guard.cc:193] This TensorFlow binary is optimized with oneAPI Deep Neural Network Library (oneDNN) to use the following CPU instructions in performance-critical operations:  SSE4.1 SSE4.2\n",
      "To enable them in other operations, rebuild TensorFlow with the appropriate compiler flags.\n"
     ]
    }
   ],
   "source": [
    "#Importar librerías\n",
    "#============================================================================\n",
    "import numpy as np\n",
    "import matplotlib.pyplot as plt\n",
    "\n",
    "from keras.models import Sequential\n",
    "from keras.layers import Input, Dense\n",
    "from keras.utils import to_categorical\n",
    "from keras.models import Model\n",
    "\n",
    "import warnings\n",
    "warnings.filterwarnings('ignore')"
   ]
  },
  {
   "cell_type": "code",
   "execution_count": 2,
   "id": "b16469e0",
   "metadata": {},
   "outputs": [
    {
     "name": "stderr",
     "output_type": "stream",
     "text": [
      "23/06/07 21:33:11 WARN Utils: Your hostname, AMAC02XJGZUJG5H-2.local resolves to a loopback address: 127.0.0.1; using 192.168.1.135 instead (on interface en0)\n",
      "23/06/07 21:33:11 WARN Utils: Set SPARK_LOCAL_IP if you need to bind to another address\n",
      "Setting default log level to \"WARN\".\n",
      "To adjust logging level use sc.setLogLevel(newLevel). For SparkR, use setLogLevel(newLevel).\n",
      "23/06/07 21:33:11 WARN NativeCodeLoader: Unable to load native-hadoop library for your platform... using builtin-java classes where applicable\n"
     ]
    }
   ],
   "source": [
    "#importar pyspark\n",
    "#============================================================================\n",
    "import pyspark\n",
    "from pyspark import SparkContext\n",
    "sc =SparkContext()\n"
   ]
  },
  {
   "cell_type": "code",
   "execution_count": 3,
   "id": "7f549002",
   "metadata": {},
   "outputs": [],
   "source": [
    "#inicializar SQLContext\n",
    "#============================================================================\n",
    "from pyspark import SQLContext\n",
    "sqlContext = SQLContext(sc)"
   ]
  },
  {
   "cell_type": "markdown",
   "id": "ed7aa2d4",
   "metadata": {},
   "source": [
    "1. Lee los datos con PySpark"
   ]
  },
  {
   "cell_type": "code",
   "execution_count": 4,
   "id": "a1f0c572",
   "metadata": {},
   "outputs": [
    {
     "name": "stderr",
     "output_type": "stream",
     "text": [
      "                                                                                \r"
     ]
    }
   ],
   "source": [
    "df = sqlContext.read.csv(\"2008.csv\", sep = \",\", inferSchema = True, header = True)"
   ]
  },
  {
   "cell_type": "markdown",
   "id": "6d57c8c0",
   "metadata": {},
   "source": [
    "2. Explorar los Datos:\n",
    "\n",
    "    Explora los datos para familiarizarte con ellos. Aquí hay algunas cosas que podrías hacer:\n",
    "    * Mostrar las primeras filas del objeto con los datos.\n",
    "    * Ver la cantidad de filas y columnas del objeto con los datos.\n",
    "    * Mostrar el esquema del objeto con los datos. Qué tipo de objeto es?\n"
   ]
  },
  {
   "cell_type": "code",
   "execution_count": 5,
   "id": "91b91e89",
   "metadata": {},
   "outputs": [
    {
     "name": "stdout",
     "output_type": "stream",
     "text": [
      "+----+-----+----------+---------+-------+----------+-------+----------+-------------+---------+-------+-----------------+--------------+-------+--------+--------+------+----+--------+------+-------+---------+----------------+--------+------------+------------+--------+-------------+-----------------+\n",
      "|Year|Month|DayofMonth|DayOfWeek|DepTime|CRSDepTime|ArrTime|CRSArrTime|UniqueCarrier|FlightNum|TailNum|ActualElapsedTime|CRSElapsedTime|AirTime|ArrDelay|DepDelay|Origin|Dest|Distance|TaxiIn|TaxiOut|Cancelled|CancellationCode|Diverted|CarrierDelay|WeatherDelay|NASDelay|SecurityDelay|LateAircraftDelay|\n",
      "+----+-----+----------+---------+-------+----------+-------+----------+-------------+---------+-------+-----------------+--------------+-------+--------+--------+------+----+--------+------+-------+---------+----------------+--------+------------+------------+--------+-------------+-----------------+\n",
      "|2008|    1|         3|        4|   1343|      1325|   1451|      1435|           WN|      588| N240WN|               68|            70|     55|      16|      18|   HOU| LIT|     393|     4|      9|        0|            null|       0|          16|           0|       0|            0|                0|\n",
      "|2008|    1|         3|        4|   1125|      1120|   1247|      1245|           WN|     1343| N523SW|               82|            85|     71|       2|       5|   HOU| MAF|     441|     3|      8|        0|            null|       0|          NA|          NA|      NA|           NA|               NA|\n",
      "|2008|    1|         3|        4|   2009|      2015|   2136|      2140|           WN|     3841| N280WN|               87|            85|     71|      -4|      -6|   HOU| MAF|     441|     2|     14|        0|            null|       0|          NA|          NA|      NA|           NA|               NA|\n",
      "|2008|    1|         3|        4|    903|       855|   1203|      1205|           WN|        3| N308SA|              120|           130|    108|      -2|       8|   HOU| MCO|     848|     5|      7|        0|            null|       0|          NA|          NA|      NA|           NA|               NA|\n",
      "|2008|    1|         3|        4|   1423|      1400|   1726|      1710|           WN|       25| N462WN|              123|           130|    107|      16|      23|   HOU| MCO|     848|     6|     10|        0|            null|       0|          16|           0|       0|            0|                0|\n",
      "+----+-----+----------+---------+-------+----------+-------+----------+-------------+---------+-------+-----------------+--------------+-------+--------+--------+------+----+--------+------+-------+---------+----------------+--------+------------+------------+--------+-------------+-----------------+\n",
      "only showing top 5 rows\n",
      "\n"
     ]
    },
    {
     "name": "stderr",
     "output_type": "stream",
     "text": [
      "23/06/07 21:33:18 WARN package: Truncated the string representation of a plan since it was too large. This behavior can be adjusted by setting 'spark.sql.debug.maxToStringFields'.\n"
     ]
    }
   ],
   "source": [
    "#Mostrar datos\n",
    "#============================================================================\n",
    "df.show(5)"
   ]
  },
  {
   "cell_type": "code",
   "execution_count": 6,
   "id": "fddfb54e",
   "metadata": {},
   "outputs": [
    {
     "name": "stderr",
     "output_type": "stream",
     "text": [
      "[Stage 3:>                                                          (0 + 8) / 8]\r"
     ]
    },
    {
     "name": "stdout",
     "output_type": "stream",
     "text": [
      "----------------------------\n",
      "Número de filas: 2389217\n",
      "Número de columnas: 29\n",
      "----------------------------\n"
     ]
    },
    {
     "name": "stderr",
     "output_type": "stream",
     "text": [
      "                                                                                \r"
     ]
    }
   ],
   "source": [
    "# Obtener la cantidad de filas\n",
    "#============================================================================\n",
    "num_filas = df.count()\n",
    "print(\"----------------------------\")\n",
    "print(\"Número de filas:\", num_filas)\n",
    "\n",
    "# Obtener la cantidad de columnas\n",
    "#============================================================================\n",
    "num_columnas = len(df.columns)\n",
    "print(\"Número de columnas:\", num_columnas)\n",
    "print(\"----------------------------\")\n"
   ]
  },
  {
   "cell_type": "code",
   "execution_count": 7,
   "id": "dffd55a7",
   "metadata": {},
   "outputs": [
    {
     "name": "stdout",
     "output_type": "stream",
     "text": [
      "root\n",
      " |-- Year: integer (nullable = true)\n",
      " |-- Month: integer (nullable = true)\n",
      " |-- DayofMonth: integer (nullable = true)\n",
      " |-- DayOfWeek: integer (nullable = true)\n",
      " |-- DepTime: string (nullable = true)\n",
      " |-- CRSDepTime: integer (nullable = true)\n",
      " |-- ArrTime: string (nullable = true)\n",
      " |-- CRSArrTime: integer (nullable = true)\n",
      " |-- UniqueCarrier: string (nullable = true)\n",
      " |-- FlightNum: integer (nullable = true)\n",
      " |-- TailNum: string (nullable = true)\n",
      " |-- ActualElapsedTime: string (nullable = true)\n",
      " |-- CRSElapsedTime: string (nullable = true)\n",
      " |-- AirTime: string (nullable = true)\n",
      " |-- ArrDelay: string (nullable = true)\n",
      " |-- DepDelay: string (nullable = true)\n",
      " |-- Origin: string (nullable = true)\n",
      " |-- Dest: string (nullable = true)\n",
      " |-- Distance: integer (nullable = true)\n",
      " |-- TaxiIn: string (nullable = true)\n",
      " |-- TaxiOut: string (nullable = true)\n",
      " |-- Cancelled: integer (nullable = true)\n",
      " |-- CancellationCode: string (nullable = true)\n",
      " |-- Diverted: integer (nullable = true)\n",
      " |-- CarrierDelay: string (nullable = true)\n",
      " |-- WeatherDelay: string (nullable = true)\n",
      " |-- NASDelay: string (nullable = true)\n",
      " |-- SecurityDelay: string (nullable = true)\n",
      " |-- LateAircraftDelay: string (nullable = true)\n",
      "\n"
     ]
    }
   ],
   "source": [
    "#Mostrar esquema - revisar tipo de datos\n",
    "#============================================================================\n",
    "df.printSchema()"
   ]
  },
  {
   "cell_type": "code",
   "execution_count": 8,
   "id": "5da703e2",
   "metadata": {},
   "outputs": [
    {
     "data": {
      "text/plain": [
       "pyspark.sql.dataframe.DataFrame"
      ]
     },
     "execution_count": 8,
     "metadata": {},
     "output_type": "execute_result"
    }
   ],
   "source": [
    "#Revisar el tipo de objeto\n",
    "#============================================================================\n",
    "type(df)"
   ]
  },
  {
   "cell_type": "markdown",
   "id": "b011f8f5",
   "metadata": {},
   "source": [
    "3. Limpieza de Datos\n",
    "\n",
    "    Asegúrate de que los datos estén limpios. Puedes necesitar hacer cosas como:\n",
    "    * Eliminar filas con datos faltantes.\n",
    "    * Convertir columnas a los tipos de datos correctos.\n"
   ]
  },
  {
   "cell_type": "code",
   "execution_count": 9,
   "id": "4dd68f85",
   "metadata": {},
   "outputs": [
    {
     "name": "stderr",
     "output_type": "stream",
     "text": [
      "                                                                                \r"
     ]
    },
    {
     "name": "stdout",
     "output_type": "stream",
     "text": [
      "Filas con valores nulos en la columna 'TailNum': 42452\n"
     ]
    },
    {
     "name": "stderr",
     "output_type": "stream",
     "text": [
      "                                                                                \r"
     ]
    },
    {
     "name": "stdout",
     "output_type": "stream",
     "text": [
      "Filas con valores nulos en la columna 'CancellationCode': 2324775\n"
     ]
    },
    {
     "name": "stderr",
     "output_type": "stream",
     "text": [
      "                                                                                \r"
     ]
    }
   ],
   "source": [
    "from pyspark.sql.functions import col\n",
    "\n",
    "#Obtener los nombres de las columas\n",
    "#============================================================================\n",
    "columnas = df.columns\n",
    "\n",
    "# Revisar las cantidad de filas con NA para cada columna\n",
    "#============================================================================\n",
    "for columna in columnas:\n",
    "    df_na = df.filter(col(columna).isNull()).count()\n",
    "    if df_na > 0:\n",
    "        print(f\"Filas con valores nulos en la columna '{columna}': {df_na}\")\n",
    "    "
   ]
  },
  {
   "cell_type": "code",
   "execution_count": 10,
   "id": "12216a0e",
   "metadata": {},
   "outputs": [
    {
     "data": {
      "text/plain": [
       "['Year',\n",
       " 'Month',\n",
       " 'DayofMonth',\n",
       " 'DayOfWeek',\n",
       " 'DepTime',\n",
       " 'CRSDepTime',\n",
       " 'ArrTime',\n",
       " 'CRSArrTime',\n",
       " 'UniqueCarrier',\n",
       " 'FlightNum',\n",
       " 'ActualElapsedTime',\n",
       " 'CRSElapsedTime',\n",
       " 'AirTime',\n",
       " 'ArrDelay',\n",
       " 'DepDelay',\n",
       " 'Origin',\n",
       " 'Dest',\n",
       " 'Distance',\n",
       " 'TaxiIn',\n",
       " 'TaxiOut',\n",
       " 'Cancelled',\n",
       " 'Diverted',\n",
       " 'CarrierDelay',\n",
       " 'WeatherDelay',\n",
       " 'NASDelay',\n",
       " 'SecurityDelay',\n",
       " 'LateAircraftDelay']"
      ]
     },
     "execution_count": 10,
     "metadata": {},
     "output_type": "execute_result"
    }
   ],
   "source": [
    "'''\n",
    "Existen 2 variables que tienen una cantidad importante de NA, estos corresponden a códigos y por lo tanto no son de utilidad\n",
    "en el análisis, por lo que se eliminarán\n",
    "'''\n",
    "\n",
    "#Eliminar columnas TailNum y CancellationCode\n",
    "#============================================================================\n",
    "df_clean = df.drop(\"TailNum\",\"CancellationCode\")\n",
    "df_clean.columns"
   ]
  },
  {
   "cell_type": "code",
   "execution_count": 11,
   "id": "1254f266",
   "metadata": {},
   "outputs": [
    {
     "name": "stderr",
     "output_type": "stream",
     "text": [
      "                                                                                \r"
     ]
    },
    {
     "name": "stdout",
     "output_type": "stream",
     "text": [
      "Filas con valores nulos en la columna 'DepTime': 64442\n",
      "Filas con valores nulos en la columna 'ArrTime': 70096\n"
     ]
    },
    {
     "name": "stderr",
     "output_type": "stream",
     "text": [
      "                                                                                \r"
     ]
    },
    {
     "name": "stdout",
     "output_type": "stream",
     "text": [
      "Filas con valores nulos en la columna 'ActualElapsedTime': 70096\n",
      "Filas con valores nulos en la columna 'CRSElapsedTime': 407\n",
      "Filas con valores nulos en la columna 'AirTime': 70096\n"
     ]
    },
    {
     "name": "stderr",
     "output_type": "stream",
     "text": [
      "                                                                                \r"
     ]
    },
    {
     "name": "stdout",
     "output_type": "stream",
     "text": [
      "Filas con valores nulos en la columna 'ArrDelay': 70096\n"
     ]
    },
    {
     "name": "stderr",
     "output_type": "stream",
     "text": [
      "                                                                                \r"
     ]
    },
    {
     "name": "stdout",
     "output_type": "stream",
     "text": [
      "Filas con valores nulos en la columna 'DepDelay': 64442\n"
     ]
    },
    {
     "name": "stderr",
     "output_type": "stream",
     "text": [
      "                                                                                \r"
     ]
    },
    {
     "name": "stdout",
     "output_type": "stream",
     "text": [
      "Filas con valores nulos en la columna 'Origin': 40481\n"
     ]
    },
    {
     "name": "stderr",
     "output_type": "stream",
     "text": [
      "                                                                                \r"
     ]
    },
    {
     "name": "stdout",
     "output_type": "stream",
     "text": [
      "Filas con valores nulos en la columna 'Dest': 40497\n"
     ]
    },
    {
     "name": "stderr",
     "output_type": "stream",
     "text": [
      "                                                                                \r"
     ]
    },
    {
     "name": "stdout",
     "output_type": "stream",
     "text": [
      "Filas con valores nulos en la columna 'TaxiIn': 70096\n"
     ]
    },
    {
     "name": "stderr",
     "output_type": "stream",
     "text": [
      "                                                                                \r"
     ]
    },
    {
     "name": "stdout",
     "output_type": "stream",
     "text": [
      "Filas con valores nulos en la columna 'TaxiOut': 64442\n"
     ]
    },
    {
     "name": "stderr",
     "output_type": "stream",
     "text": [
      "                                                                                \r"
     ]
    },
    {
     "name": "stdout",
     "output_type": "stream",
     "text": [
      "Filas con valores nulos en la columna 'CarrierDelay': 1804634\n"
     ]
    },
    {
     "name": "stderr",
     "output_type": "stream",
     "text": [
      "                                                                                \r"
     ]
    },
    {
     "name": "stdout",
     "output_type": "stream",
     "text": [
      "Filas con valores nulos en la columna 'WeatherDelay': 1804634\n"
     ]
    },
    {
     "name": "stderr",
     "output_type": "stream",
     "text": [
      "                                                                                \r"
     ]
    },
    {
     "name": "stdout",
     "output_type": "stream",
     "text": [
      "Filas con valores nulos en la columna 'NASDelay': 1804634\n"
     ]
    },
    {
     "name": "stderr",
     "output_type": "stream",
     "text": [
      "                                                                                \r"
     ]
    },
    {
     "name": "stdout",
     "output_type": "stream",
     "text": [
      "Filas con valores nulos en la columna 'SecurityDelay': 1804634\n",
      "Filas con valores nulos en la columna 'LateAircraftDelay': 1804634\n"
     ]
    },
    {
     "name": "stderr",
     "output_type": "stream",
     "text": [
      "                                                                                \r"
     ]
    }
   ],
   "source": [
    "# Existen datos NA, pero ingresados como str, por lo que se revisarán y eliminarán.\n",
    "\n",
    "#Obtener los nombres de las columas\n",
    "#============================================================================\n",
    "columnas = df_clean.columns\n",
    "\n",
    "# Revisar las cantidad de filas con \"NA\" para cada columna\n",
    "#============================================================================\n",
    "for columna in columnas:\n",
    "    df_na = df_clean.filter(col(columna).like(\"%NA%\")).count()\n",
    "    if df_na > 0:\n",
    "        print(f\"Filas con valores nulos en la columna '{columna}': {df_na}\")"
   ]
  },
  {
   "cell_type": "code",
   "execution_count": 12,
   "id": "af124666",
   "metadata": {},
   "outputs": [
    {
     "name": "stdout",
     "output_type": "stream",
     "text": [
      "+----+-----+----------+---------+-------+----------+-------+----------+-------------+---------+-----------------+--------------+-------+--------+--------+------+----+--------+------+-------+---------+--------+------------+------------+--------+-------------+-----------------+\n",
      "|Year|Month|DayofMonth|DayOfWeek|DepTime|CRSDepTime|ArrTime|CRSArrTime|UniqueCarrier|FlightNum|ActualElapsedTime|CRSElapsedTime|AirTime|ArrDelay|DepDelay|Origin|Dest|Distance|TaxiIn|TaxiOut|Cancelled|Diverted|CarrierDelay|WeatherDelay|NASDelay|SecurityDelay|LateAircraftDelay|\n",
      "+----+-----+----------+---------+-------+----------+-------+----------+-------------+---------+-----------------+--------------+-------+--------+--------+------+----+--------+------+-------+---------+--------+------------+------------+--------+-------------+-----------------+\n",
      "|2008|    1|         3|        4|   1343|      1325|   1451|      1435|           WN|      588|               68|            70|     55|      16|      18|   HOU| LIT|     393|     4|      9|        0|       0|          16|           0|       0|            0|                0|\n",
      "|2008|    1|         3|        4|   1125|      1120|   1247|      1245|           WN|     1343|               82|            85|     71|       2|       5|   HOU| MAF|     441|     3|      8|        0|       0|          NA|          NA|      NA|           NA|               NA|\n",
      "|2008|    1|         3|        4|   2009|      2015|   2136|      2140|           WN|     3841|               87|            85|     71|      -4|      -6|   HOU| MAF|     441|     2|     14|        0|       0|          NA|          NA|      NA|           NA|               NA|\n",
      "|2008|    1|         3|        4|    903|       855|   1203|      1205|           WN|        3|              120|           130|    108|      -2|       8|   HOU| MCO|     848|     5|      7|        0|       0|          NA|          NA|      NA|           NA|               NA|\n",
      "|2008|    1|         3|        4|   1423|      1400|   1726|      1710|           WN|       25|              123|           130|    107|      16|      23|   HOU| MCO|     848|     6|     10|        0|       0|          16|           0|       0|            0|                0|\n",
      "+----+-----+----------+---------+-------+----------+-------+----------+-------------+---------+-----------------+--------------+-------+--------+--------+------+----+--------+------+-------+---------+--------+------------+------------+--------+-------------+-----------------+\n",
      "only showing top 5 rows\n",
      "\n"
     ]
    }
   ],
   "source": [
    "'''\n",
    "Dado lo solicitado en los análisis, las variables en las que se eliminarán los datos perdidos son: \n",
    "1. 'ActualElapsedTime' ya que se pide obtener cuál es el vuelo más largo\n",
    "2. 'Dest', puesto se requiere saber cuál es el destino más popular.\n",
    "'''\n",
    "\n",
    "# Construir lista con las columnas a considerar\n",
    "#============================================================================\n",
    "columnas = ['ActualElapsedTime', 'Dest']\n",
    "\n",
    "# Eliminar las filas con \"NA\" en las columnas de tipo string\n",
    "#============================================================================\n",
    "for columna in columnas:\n",
    "    if df_clean.schema[columna].dataType == 'string':\n",
    "        df_clean = df_clean.filter(~col(columna).like(\"%NA%\"))\n",
    "\n",
    "# Mostrar el DataFrame resultante sin las filas que contenían \"NA\"\n",
    "#============================================================================\n",
    "df_clean.show(5)"
   ]
  },
  {
   "cell_type": "code",
   "execution_count": 13,
   "id": "b1111d56",
   "metadata": {},
   "outputs": [
    {
     "name": "stdout",
     "output_type": "stream",
     "text": [
      "root\n",
      " |-- Year: integer (nullable = true)\n",
      " |-- Month: integer (nullable = true)\n",
      " |-- DayofMonth: integer (nullable = true)\n",
      " |-- DayOfWeek: integer (nullable = true)\n",
      " |-- DepTime: string (nullable = true)\n",
      " |-- CRSDepTime: integer (nullable = true)\n",
      " |-- ArrTime: string (nullable = true)\n",
      " |-- CRSArrTime: integer (nullable = true)\n",
      " |-- UniqueCarrier: string (nullable = true)\n",
      " |-- FlightNum: integer (nullable = true)\n",
      " |-- ActualElapsedTime: integer (nullable = true)\n",
      " |-- CRSElapsedTime: string (nullable = true)\n",
      " |-- AirTime: string (nullable = true)\n",
      " |-- ArrDelay: string (nullable = true)\n",
      " |-- DepDelay: string (nullable = true)\n",
      " |-- Origin: string (nullable = true)\n",
      " |-- Dest: string (nullable = true)\n",
      " |-- Distance: integer (nullable = true)\n",
      " |-- TaxiIn: string (nullable = true)\n",
      " |-- TaxiOut: string (nullable = true)\n",
      " |-- Cancelled: integer (nullable = true)\n",
      " |-- Diverted: integer (nullable = true)\n",
      " |-- CarrierDelay: string (nullable = true)\n",
      " |-- WeatherDelay: string (nullable = true)\n",
      " |-- NASDelay: string (nullable = true)\n",
      " |-- SecurityDelay: string (nullable = true)\n",
      " |-- LateAircraftDelay: string (nullable = true)\n",
      "\n"
     ]
    }
   ],
   "source": [
    "# Convertir tipo de datos\n",
    "'''\n",
    "Solamente se casteará la var 'ActualElapsedTime' ya que es variable de interés.\n",
    "Existen otras columnas que se deberían modificar; sin embargo, por tener \"NA\", no se puede.\n",
    "'''\n",
    "#============================================================================\n",
    "\n",
    "from pyspark.sql import types\n",
    "\n",
    "df_clean = df_clean.withColumn('ActualElapsedTime', df_clean['ActualElapsedTime'].cast(types.IntegerType()))\n",
    "\n",
    "df_clean.printSchema()"
   ]
  },
  {
   "cell_type": "markdown",
   "id": "88d9dc98",
   "metadata": {},
   "source": [
    "4. Análisis de Datos\n",
    "\n",
    "    Realiza un análisis básico de los datos.\n",
    "    * ¿Cuál es el vuelo más largo? Que unidad de tiempo es más apropiada? De qué depende? Seleccione una.\n",
    "    * ¿Cuál es la aerolínea con más vuelos?\n",
    "    * ¿Cuál es el destino más popular?\n",
    "    * ¿Qué día de la semana tiene más vuelos?\n"
   ]
  },
  {
   "cell_type": "code",
   "execution_count": 14,
   "id": "2142d520",
   "metadata": {},
   "outputs": [
    {
     "name": "stdout",
     "output_type": "stream",
     "text": [
      "El tiempo máximo de vuelo es: 905 minutos\n"
     ]
    },
    {
     "name": "stderr",
     "output_type": "stream",
     "text": [
      "                                                                                \r"
     ]
    }
   ],
   "source": [
    "######################### Determinar vuelo más largo #########################\n",
    "\n",
    "#Calcular la mayor duración de un vuelo\n",
    "#============================================================================\n",
    "from pyspark.sql import functions as F\n",
    "\n",
    "max_vuelo = df_clean.select(F.max(\"ActualElapsedTime\")).first()[0]\n",
    "print(f\"El tiempo máximo de vuelo es: {max_vuelo} minutos\")\n"
   ]
  },
  {
   "cell_type": "code",
   "execution_count": 15,
   "id": "783bd074",
   "metadata": {},
   "outputs": [
    {
     "name": "stderr",
     "output_type": "stream",
     "text": [
      "[Stage 178:=======>                                                 (1 + 7) / 8]\r"
     ]
    },
    {
     "name": "stdout",
     "output_type": "stream",
     "text": [
      "El tiempo máximo de vuelo es: 15.08 horas\n"
     ]
    },
    {
     "name": "stderr",
     "output_type": "stream",
     "text": [
      "                                                                                \r"
     ]
    }
   ],
   "source": [
    "'''\n",
    "El tiempo máximo es 905 minutos, por lo que la mejor unidad es en horas. Esto va a depender de cuánta duración tengan los\n",
    "vuelos que se están analizando. En casos en que el máximo no sea mucho mayor que 60 minutos es preferible dejarlo en minutos,\n",
    "de lo contrario es mejor las horas, para poder tener una mejor idea del tiempo transcurrido.\n",
    "'''\n",
    "\n",
    "# Traspasar de minutos a hora la variable \"ActualElapsedTime\"\n",
    "#============================================================================\n",
    "df_with_hours = df_clean.withColumn(\"ActualElapsedTime_hours\", F.col(\"ActualElapsedTime\") / 60)\n",
    "\n",
    "#Calcular la mayor duración de un vuelo\n",
    "#============================================================================\n",
    "max_vuelo_hrs = df_with_hours.select(F.max(\"ActualElapsedTime_hours\")).first()[0]\n",
    "print(f\"El tiempo máximo de vuelo es: {max_vuelo_hrs:.2f} horas\")"
   ]
  },
  {
   "cell_type": "code",
   "execution_count": 16,
   "id": "f15e3447",
   "metadata": {},
   "outputs": [
    {
     "name": "stderr",
     "output_type": "stream",
     "text": [
      "                                                                                \r"
     ]
    },
    {
     "name": "stdout",
     "output_type": "stream",
     "text": [
      "+---------+-------------+------+----+-----------------------+\n",
      "|FlightNum|UniqueCarrier|Origin|Dest|ActualElapsedTime_hours|\n",
      "+---------+-------------+------+----+-----------------------+\n",
      "|       22|           HA|   HNL| SEA|     15.083333333333334|\n",
      "+---------+-------------+------+----+-----------------------+\n",
      "\n"
     ]
    }
   ],
   "source": [
    "#Obtener el listado de vuelos que tienen la duración máxima\n",
    "#============================================================================\n",
    "df_max_vuelo = df_with_hours.filter(F.col(\"ActualElapsedTime\") == max_vuelo)\n",
    "df_max_vuelo = df_max_vuelo.select(\"FlightNum\", \"UniqueCarrier\",\"Origin\", \"Dest\", \"ActualElapsedTime_hours\")\n",
    "\n",
    "df_max_vuelo.show()"
   ]
  },
  {
   "cell_type": "code",
   "execution_count": 17,
   "id": "76e5f516",
   "metadata": {},
   "outputs": [
    {
     "name": "stderr",
     "output_type": "stream",
     "text": [
      "[Stage 190:>                                                        (0 + 8) / 8]\r"
     ]
    },
    {
     "name": "stdout",
     "output_type": "stream",
     "text": [
      "La aerolínea con más vuelos es: WN, con 398966 viajes\n"
     ]
    },
    {
     "name": "stderr",
     "output_type": "stream",
     "text": [
      "                                                                                \r"
     ]
    }
   ],
   "source": [
    "######################### Determinar la aerolinea con mayor cantidad de vuelos #########################\n",
    "\n",
    "#Genear df con la cuenta de viajes por aerolinea\n",
    "#============================================================================\n",
    "df_vuelos_aerolinas = df_with_hours.groupBy(\"UniqueCarrier\").count()\n",
    "\n",
    "#Obtener el la cantidad máxima de viajes\n",
    "#============================================================================\n",
    "max_aerolinea = df_vuelos_aerolinas.select(F.max(\"count\")).first()[0]\n",
    "\n",
    "#Obtener la aerolinea que tiene la mayor cantidad de vuelos\n",
    "#============================================================================\n",
    "df_max_aerolinea = df_vuelos_aerolinas.filter(F.col(\"count\") == max_aerolinea)\n",
    "aerolinea = df_max_aerolinea.collect()[0][0]\n",
    "vuelos = df_max_aerolinea.collect()[0][1]\n",
    "\n",
    "print(f\"La aerolínea con más vuelos es: {aerolinea}, con {vuelos} viajes\")"
   ]
  },
  {
   "cell_type": "code",
   "execution_count": 18,
   "id": "3738b516",
   "metadata": {},
   "outputs": [
    {
     "name": "stderr",
     "output_type": "stream",
     "text": [
      "[Stage 201:=======>                                                 (1 + 7) / 8]\r"
     ]
    },
    {
     "name": "stdout",
     "output_type": "stream",
     "text": [
      "El destino con más vuelos es: ATL, con 136950 viajes\n"
     ]
    },
    {
     "name": "stderr",
     "output_type": "stream",
     "text": [
      "                                                                                \r"
     ]
    }
   ],
   "source": [
    "######################### Determinar cuál es el destino #########################\n",
    "\n",
    "#Genear df con la cuenta de destinos\n",
    "#============================================================================\n",
    "df_vuelos_destino = df_with_hours.groupBy(\"Dest\").count()\n",
    "\n",
    "#Obtener el la cantidad máxima de viajes\n",
    "#============================================================================\n",
    "max_destino = df_vuelos_destino.select(F.max(\"count\")).first()[0]\n",
    "\n",
    "#Obtener el destino que tiene la mayor cantidad de vuelos\n",
    "#============================================================================\n",
    "df_max_destino = df_vuelos_destino.filter(F.col(\"count\") == max_destino)\n",
    "\n",
    "destino = df_max_destino.collect()[0][0]\n",
    "vuelos = df_max_destino.collect()[0][1]\n",
    "\n",
    "print(f\"El destino con más vuelos es: {destino}, con {vuelos} viajes\")"
   ]
  },
  {
   "cell_type": "code",
   "execution_count": 19,
   "id": "832070a3",
   "metadata": {},
   "outputs": [
    {
     "name": "stderr",
     "output_type": "stream",
     "text": [
      "[Stage 212:>                                                        (0 + 8) / 8]\r"
     ]
    },
    {
     "name": "stdout",
     "output_type": "stream",
     "text": [
      "+---------+------+\n",
      "|DayOfWeek| count|\n",
      "+---------+------+\n",
      "|        3|365560|\n",
      "+---------+------+\n",
      "\n"
     ]
    },
    {
     "name": "stderr",
     "output_type": "stream",
     "text": [
      "                                                                                \r"
     ]
    }
   ],
   "source": [
    "######################### Día de la semana con más vuelos #########################\n",
    "\n",
    "#Genear df con la cuenta de viajes por dia\n",
    "#============================================================================\n",
    "df_vuelos_dia = df_with_hours.groupBy(\"DayOfWeek\").count()\n",
    "\n",
    "#Obtener el la cantidad máxima de viajes\n",
    "#============================================================================\n",
    "max_dia = df_vuelos_dia.select(F.max(\"count\")).first()[0]\n",
    "\n",
    "#Obtener el dia que tiene la mayor cantidad de vuelos\n",
    "#============================================================================\n",
    "df_max_dia= df_vuelos_dia.filter(F.col(\"count\") == max_dia)\n",
    "df_max_dia.show()"
   ]
  },
  {
   "cell_type": "code",
   "execution_count": 20,
   "id": "ee78114f",
   "metadata": {
    "scrolled": true
   },
   "outputs": [
    {
     "name": "stderr",
     "output_type": "stream",
     "text": [
      "[Stage 215:=======>                                                 (1 + 7) / 8]\r"
     ]
    },
    {
     "name": "stdout",
     "output_type": "stream",
     "text": [
      "El día con más vuelos es: Miércoles, con 365560 viajes\n"
     ]
    },
    {
     "name": "stderr",
     "output_type": "stream",
     "text": [
      "                                                                                \r"
     ]
    }
   ],
   "source": [
    "#Reemplazar número por nombre del día\n",
    "#============================================================================\n",
    "df_max_dia = df_max_dia.withColumn(\"DayOfWeek\", F.when(F.col(\"DayOfWeek\") == 3, \"Miércoles\"))\n",
    "\n",
    "#Imprimir resultado análisis\n",
    "#============================================================================\n",
    "dia = df_max_dia.collect()[0][0]\n",
    "vuelos = df_max_dia.collect()[0][1]\n",
    "\n",
    "print(f\"El día con más vuelos es: {dia}, con {vuelos} viajes\")"
   ]
  },
  {
   "cell_type": "code",
   "execution_count": 21,
   "id": "d88b6ba5",
   "metadata": {},
   "outputs": [],
   "source": [
    "#cerrar sesión\n",
    "sc.stop()"
   ]
  }
 ],
 "metadata": {
  "kernelspec": {
   "display_name": "Python 3 (ipykernel)",
   "language": "python",
   "name": "python3"
  },
  "language_info": {
   "codemirror_mode": {
    "name": "ipython",
    "version": 3
   },
   "file_extension": ".py",
   "mimetype": "text/x-python",
   "name": "python",
   "nbconvert_exporter": "python",
   "pygments_lexer": "ipython3",
   "version": "3.10.9"
  }
 },
 "nbformat": 4,
 "nbformat_minor": 5
}
